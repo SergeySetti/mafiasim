{
 "cells": [
  {
   "cell_type": "code",
   "execution_count": 1,
   "outputs": [],
   "source": [
    "import matplotlib.pyplot as plt\n",
    "import pandas as pd\n",
    "from pandas import DataFrame\n",
    "from eda.util import set_ax_pixel_size\n",
    "\n",
    "from mafia.voting_strategies import *\n",
    "\n",
    "plt.style.use('ggplot')\n",
    "\n",
    "typical_tactics = [\n",
    "    ChancesOfVotingForRed(0.50),\n",
    "    ChancesOfVotingForBlack(0.50),\n",
    "    AlwaysVoteForBlackCheckedBySheriff(),\n",
    "    ChancesOfVotingForRedThatIsCheckedBySheriff(0),\n",
    "    MafiaKillsUncoveredRed(1),\n",
    "    MafiaKillsUncoveredSheriff(1),\n",
    "    RedMustPutOnVoteUncoveredBlack(1),\n",
    "    RedMustAvoidToPutOnVoteUncoveredRed(0),\n",
    "]\n",
    "skilled_tactics = [\n",
    "    ChancesOfVotingForRed(0.10),\n",
    "    ChancesOfVotingForBlack(0.90),\n",
    "    AlwaysVoteForBlackCheckedBySheriff(),\n",
    "    ChancesOfVotingForRedThatIsCheckedBySheriff(0),\n",
    "    MafiaKillsUncoveredRed(1),\n",
    "    MafiaKillsUncoveredSheriff(1),\n",
    "    RedMustPutOnVoteUncoveredBlack(1),\n",
    "    RedMustAvoidToPutOnVoteUncoveredRed(0),\n",
    "]\n",
    "players_strategies = [typical_tactics for _ in range(10)]\n",
    "players_strategies[0] = skilled_tactics\n",
    "players_strategies[1] = skilled_tactics\n",
    "\n",
    "\n",
    "game = Game()\n",
    "game.init_game(players_strategies)\n",
    "while True:\n",
    "    game.commit_night_events()\n",
    "    if game.the_game_is_over:\n",
    "        break\n",
    "    game.commit_day_events()\n",
    "    if game.the_game_is_over:\n",
    "        break\n"
   ],
   "metadata": {
    "collapsed": false
   }
  },
  {
   "cell_type": "code",
   "execution_count": 2,
   "outputs": [],
   "source": [
    "df = DataFrame(columns=['g_time', 'g_who_wins', 'g_total_rounds', 'g_when_sheriff_killed', 'p_#', 'p_role', 'votes_for_reds', 'votes_for_black'])\n",
    "for g in range(1000):\n",
    "    game = Game()\n",
    "    game.init_game(players_strategies)\n",
    "    while True:\n",
    "        game.commit_night_events()\n",
    "        if game.the_game_is_over:\n",
    "            break\n",
    "        game.commit_day_events()\n",
    "        if game.the_game_is_over:\n",
    "            break\n",
    "\n",
    "    stats = []\n",
    "    p: Player\n",
    "\n",
    "    for p in game.players:\n",
    "        num_of_votes_for_reds = len([x for x in game.game_statistics['who_vote_who'] if p == x[0] and x[1].is_red()])\n",
    "        num_of_votes_for_black = len([x for x in game.game_statistics['who_vote_who'] if p == x[0] and x[1].is_maf()])\n",
    "        stats.append([game.game_time, game.who_wins, game.day_number, game.game_statistics['when_sheriff_killed'], p.number, p.role, num_of_votes_for_reds, num_of_votes_for_black])\n",
    "\n",
    "    df = pd.concat([df, DataFrame(columns=['g_time', 'g_who_wins', 'g_total_rounds', 'g_when_sheriff_killed', 'p_#', 'p_role', 'votes_for_reds', 'votes_for_black'], data=stats)], ignore_index=True)"
   ],
   "metadata": {
    "collapsed": false
   }
  },
  {
   "cell_type": "code",
   "execution_count": 3,
   "outputs": [
    {
     "data": {
      "text/plain": "<Figure size 400x500 with 1 Axes>",
      "image/png": "[encoded data removed]"
     },
     "metadata": {
      "needs_background": "light"
     },
     "output_type": "display_data"
    }
   ],
   "source": [
    "who_wins = df.groupby(['g_time', 'g_who_wins']).agg(wins_count=('g_who_wins', 'count')).reset_index()\n",
    "who_wins = who_wins.groupby('g_who_wins').agg(wins_by_team=('g_who_wins', 'count')) / len(who_wins) * 100\n",
    "ax = who_wins.plot(kind='bar', legend=False)\n",
    "ax.set_frame_on(False)\n",
    "ax.set_xlabel('Teams')\n",
    "ax.set_ylabel('Win-rate (%)')\n",
    "ax.bar_label(ax.containers[0], fmt='%.0f%%')\n",
    "set_ax_pixel_size(ax, width=400)\n"
   ],
   "metadata": {
    "collapsed": false
   }
  },
  {
   "cell_type": "code",
   "execution_count": 4,
   "outputs": [
    {
     "data": {
      "text/plain": "                                  wins_by_team\ng_who_wins g_when_sheriff_killed              \nmaf        0                               3.3\n           1                               4.1\n           2                               8.5\n           10                              1.3\nreds       0                              10.5\n           1                              11.0\n           2                              58.3\n           10                              3.0",
      "text/html": "<div>\n<style scoped>\n    .dataframe tbody tr th:only-of-type {\n        vertical-align: middle;\n    }\n\n    .dataframe tbody tr th {\n        vertical-align: top;\n    }\n\n    .dataframe thead th {\n        text-align: right;\n    }\n</style>\n<table border=\"1\" class=\"dataframe\">\n  <thead>\n    <tr style=\"text-align: right;\">\n      <th></th>\n      <th></th>\n      <th>wins_by_team</th>\n    </tr>\n    <tr>\n      <th>g_who_wins</th>\n      <th>g_when_sheriff_killed</th>\n      <th></th>\n    </tr>\n  </thead>\n  <tbody>\n    <tr>\n      <th rowspan=\"4\" valign=\"top\">maf</th>\n      <th>0</th>\n      <td>3.3</td>\n    </tr>\n    <tr>\n      <th>1</th>\n      <td>4.1</td>\n    </tr>\n    <tr>\n      <th>2</th>\n      <td>8.5</td>\n    </tr>\n    <tr>\n      <th>10</th>\n      <td>1.3</td>\n    </tr>\n    <tr>\n      <th rowspan=\"4\" valign=\"top\">reds</th>\n      <th>0</th>\n      <td>10.5</td>\n    </tr>\n    <tr>\n      <th>1</th>\n      <td>11.0</td>\n    </tr>\n    <tr>\n      <th>2</th>\n      <td>58.3</td>\n    </tr>\n    <tr>\n      <th>10</th>\n      <td>3.0</td>\n    </tr>\n  </tbody>\n</table>\n</div>"
     },
     "execution_count": 4,
     "metadata": {},
     "output_type": "execute_result"
    }
   ],
   "source": [
    "win_rate_by_sheriff_longevity = df.groupby(['g_time', 'g_when_sheriff_killed', 'g_who_wins']).agg(wins_count=('g_who_wins', 'count')).reset_index()\n",
    "\n",
    "\n",
    "win_rate_by_sheriff_longevity_g = win_rate_by_sheriff_longevity.groupby(['g_who_wins', 'g_when_sheriff_killed']).agg(wins_by_team=('g_who_wins', 'count')) / len(win_rate_by_sheriff_longevity) * 100\n",
    "win_rate_by_sheriff_longevity_g\n"
   ],
   "metadata": {
    "collapsed": false
   }
  },
  {
   "cell_type": "markdown",
   "source": [
    "Решил развлечь себя написанием симулятора игры в мафию. Это полностью синтетическая модель игр, имитирующая ход игры от начала до конца, в соответствии с правилами классической игры. Но прелесть этого симулятора в том, что поддерживает настройку вероятностей действий игроков. Есть возможности настройки, как будут действовать игроки в тех или иных ситуациях. Одна из главных настроек: это способность (%) находить мафию.\n",
    "\n",
    "Я запустил симуляции тысяч игр на разных настройках поведения игроков за столом и хочу поделиться с вами интересными результатами.\n",
    "\n",
    "Первая симуляция 1000 игр. Входные настройки:\n",
    "* Каждый игрок голосует сам, как считает нужным, все голосования свободные\n",
    "* Игроки голосуют вместе с шерифом в чёрных после того, как шериф вскрывается и объявляет чёрные проверки\n",
    "* Красные проверки не голосуются\n",
    "* Мафия голосует так же, как и красные игроки и тоже не договариваясь, куда голосовать\n",
    "* Мафия голосует с шерифом\n",
    "* В этой симуляции игроки одинаково голосуют как за красных, так и за чёрных (способность находить цвета выключена). Другими словами, шанс, что красный игрок правильно определит того или иного игрока за столом красным - 50%\n",
    "\n",
    "![](images/img.png)\n",
    "Здесь видно, что когда игроки действуют случайным образом и независимо друг от друга, мафия побеждает в 4 раза чаще мирных.\n",
    "\n",
    "В этой ситуации шериф значительно спасает положение красных. Но велико влияние шерифа за столом? Далее я совсем убрал фактор шерифа. Вот 1000 игр, где игроки действуют всё так же случайным образом, но теперь ещё и без шерифских проверок.\n",
    "\n",
    "![](images/img_1.png)\n",
    "\n",
    "Без шерифа, без согласованных голосований и без способностей находить чёрных у красных есть всего около 10% шансов на победу. При это мафия так же часто голосует в свою мафию, как и красные это делают.\n",
    "\n",
    "Далее я добавил красным и чёрным больше шансов голосовать в чёрных и меньше шансов голосовать в красных. Пусть показатель способностей находить красных будет чуть выше среднего, скажем 65% вместо 50% как было выше. Другими словами, добавим красным немного способностей находить цвета.\n",
    "![](images/img_2.png)\n",
    "Здесь игроки всё ещё играют рассогласовано и чёрные не думают, когда в кого голосовать. Но чёрные убивают шерифа сразу, как только шериф вскрывается. И все игроки голосуют в чёрную проверку и никогда не голосуют в красные проверки. Как видим, аж 65% скилла к нашей красной игре необходимо, чтобы не проигрывать хотя бы половину игр!\n",
    "\n",
    "Следующий эксперимент особенно интересен. В нём я добавляю в стол одного очень талантливого игрока, способного находить цвета в 90% случаев верно. Остальные игроки действуют без способностей находить цвета.\n",
    "![](images/img_3.png)\n",
    "За \"плохим столом\" такой игрок будет проигрывать две трети своих игр. Но на длинной дистанции результативность красных команд поднимется. Не забываем, что треть игр этот опытный игрок играет за чёрных.\n",
    "\n",
    "А теперь пусть за столом будет 2 опытных игрока, не ошибающихся в цветах в 90% случаев:\n",
    "![](images/img_4.png)\n",
    "При этом они всё ещё голосуют рассогласованно, не вместе.\n",
    "\n",
    "5 опытных игроков:\n",
    "![](images/img_5.png)\n",
    "\n",
    "А вот вероятность побед, если все 10 игроков умеют определить цвет другого игрока с 90% точностью:\n",
    "![](images/img_6.png)\n"
   ],
   "metadata": {
    "collapsed": false
   }
  }
 ],
 "metadata": {
  "kernelspec": {
   "display_name": "Python 3",
   "language": "python",
   "name": "python3"
  },
  "language_info": {
   "codemirror_mode": {
    "name": "ipython",
    "version": 2
   },
   "file_extension": ".py",
   "mimetype": "text/x-python",
   "name": "python",
   "nbconvert_exporter": "python",
   "pygments_lexer": "ipython2",
   "version": "2.7.6"
  }
 },
 "nbformat": 4,
 "nbformat_minor": 0
}
